{
  "nbformat": 4,
  "nbformat_minor": 0,
  "metadata": {
    "colab": {
      "name": "oop_lab_assignment_2.ipynb",
      "provenance": [],
      "collapsed_sections": [],
      "mount_file_id": "1MlFjw7-tuPZOt32EjQzqaaeQxbcr_LXV",
      "authorship_tag": "ABX9TyMRwm/SThpKIxnNrPEX1Vrj",
      "include_colab_link": true
    },
    "kernelspec": {
      "name": "python3",
      "display_name": "Python 3"
    },
    "language_info": {
      "name": "python"
    }
  },
  "cells": [
    {
      "cell_type": "markdown",
      "metadata": {
        "id": "view-in-github",
        "colab_type": "text"
      },
      "source": [
        "<a href=\"https://colab.research.google.com/github/chaitnya23/OOP_Lab_assignments/blob/main/oop_lab_assignment_2.ipynb\" target=\"_parent\"><img src=\"https://colab.research.google.com/assets/colab-badge.svg\" alt=\"Open In Colab\"/></a>"
      ]
    },
    {
      "cell_type": "markdown",
      "metadata": {
        "id": "bJDKqVpmDtH9"
      },
      "source": [
        "problem-1"
      ]
    },
    {
      "cell_type": "code",
      "metadata": {
        "colab": {
          "base_uri": "https://localhost:8080/"
        },
        "id": "NLFNLrg5DQ_O",
        "outputId": "08e7e461-b954-4741-8706-1546b26167f5"
      },
      "source": [
        "import math as m\n",
        "class circle:\n",
        "  def __init__(self,radius):\n",
        "    self.radius=radius\n",
        "\n",
        "  def compute_Area(self):\n",
        "    self.area = self.radius**2\n",
        "    print(self.area)\n",
        "\n",
        "  def compute_perimeter(self):\n",
        "    self.peri = 2*m.pi*self.radius\n",
        "    print(self.peri)\n",
        "\n",
        "\n",
        "obj = circle(12)\n",
        "print(obj.compute_Area())\n",
        "print(obj.compute_perimeter())\n"
      ],
      "execution_count": null,
      "outputs": [
        {
          "output_type": "stream",
          "name": "stdout",
          "text": [
            "144\n",
            "None\n",
            "75.39822368615503\n",
            "None\n"
          ]
        }
      ]
    },
    {
      "cell_type": "markdown",
      "metadata": {
        "id": "DFhssdW_F9_h"
      },
      "source": [
        "problem-2"
      ]
    },
    {
      "cell_type": "code",
      "metadata": {
        "colab": {
          "base_uri": "https://localhost:8080/"
        },
        "id": "ue5akZOaHFrw",
        "outputId": "7638dea8-ec74-430c-8c37-ef185c2cdb62"
      },
      "source": [
        "class faculty:\n",
        "  def __init__(self,name,id,branch,salary):\n",
        "    self.name=name\n",
        "    self.id=id\n",
        "    self.branch=branch\n",
        "    self.salary=salary\n",
        "\n",
        "  def returnData(self):\n",
        "    return [self.name,self.id,self.branch,self.salary]\n",
        "    '''print(\"name : \"+self.name)\n",
        "    print(\"id : \"+self.id)    \n",
        "    print(\"branch : \"+self.branch)    \n",
        "    print(\"salary : \"+self.salary) '''\n",
        "\n",
        "\n",
        "faculties=[]\n",
        "for i in range(3):\n",
        "  name=input(\"enter name :\")\n",
        "  id=int(input(\"enter id: \"))\n",
        "  branch=input(\"enter the branch name \")\n",
        "  salary=int(input(\"enter salary: \"))\n",
        "  faculty_obj = faculty(name,id,branch,salary)\n",
        "  faculties.append(faculty_obj.returnData())\n",
        "  print(\"\\n\\n\")\n",
        "\n",
        "print(\"data of the falculties : \\n\")\n",
        "for i in faculties:\n",
        "  print(i)\n"
      ],
      "execution_count": null,
      "outputs": [
        {
          "output_type": "stream",
          "name": "stdout",
          "text": [
            "enter name :chaitnya\n",
            "enter id: 123\n",
            "enter the branch name cs\n",
            "enter salary: 1200000\n",
            "enter name :ash\n",
            "enter id: 1234\n",
            "enter the branch name 23000\n",
            "enter salary: 23445\n",
            "enter name :rohi\n",
            "enter id: 123\n",
            "enter the branch name ecs\n",
            "enter salary: 110000\n",
            "['chaitnya', 123, 'cs', 1200000]\n",
            "['ash', 1234, '23000', 23445]\n",
            "['rohi', 123, 'ecs', 110000]\n"
          ]
        }
      ]
    },
    {
      "cell_type": "markdown",
      "metadata": {
        "id": "tS3BvOqtLGu9"
      },
      "source": [
        "problem-3"
      ]
    },
    {
      "cell_type": "code",
      "metadata": {
        "colab": {
          "base_uri": "https://localhost:8080/"
        },
        "id": "BeMkeHd9LJHU",
        "outputId": "144f8e0b-fcbb-4f4e-8cbd-19ba6890f514"
      },
      "source": [
        "class account:\n",
        "  def __init__(self,name,acc_no,amount):\n",
        "    self.name=name\n",
        "    self.acc_no=acc_no\n",
        "    self.amount=amount\n",
        "\n",
        "  def deposit(self,d_amount):\n",
        "    self.amount+=d_amount\n",
        "\n",
        "  def withdraw(self,w_amount):\n",
        "    self.amount-=w_amount\n",
        "\n",
        "  def cheack_balance(self):\n",
        "    print(\"your balance :\" + str(self.amount))\n",
        "  \n",
        "  def getDeatails(self):\n",
        "    print(\"Accont Details: \")\n",
        "    print(\"name: \" + self.name + \" account number: \"+ str(self.acc_no)+\" amount remaining: \"+ str(self.amount))\n",
        "\n",
        "\n",
        "name = input(\"enter name :\")\n",
        "an=int(input(\" account no. : \"))\n",
        "amount=int(input(\"enter total amount : \"))\n",
        "\n",
        "holder = account(name,an,amount)\n",
        "holder.deposit(10000)\n",
        "holder.withdraw(5000)\n",
        "holder.cheack_balance()\n",
        "holder.getDeatails()"
      ],
      "execution_count": null,
      "outputs": [
        {
          "output_type": "stream",
          "name": "stdout",
          "text": [
            "enter name :chaitnya\n",
            " account no. : 12345\n",
            "enter total amount : 1200000\n",
            "your balance :1205000\n",
            "Accont Details: \n",
            "name: chaitnya account number: 12345 amount remaining: 1205000\n"
          ]
        }
      ]
    },
    {
      "cell_type": "markdown",
      "metadata": {
        "id": "NYCN9VBqN8ri"
      },
      "source": [
        "problem-4"
      ]
    },
    {
      "cell_type": "code",
      "metadata": {
        "colab": {
          "base_uri": "https://localhost:8080/"
        },
        "id": "Fd9UDRV0N-5a",
        "outputId": "d487e273-f217-4e57-d670-43dcdf03f145"
      },
      "source": [
        "class student:\n",
        "  def __init__(self,name,usn,marks_list):\n",
        "    self.name=name\n",
        "    self.usn=usn\n",
        "    self.marks_list=marks_list\n",
        "\n",
        "  def displayData(self):\n",
        "    print(\"name: \"+self.name+\"\\nusn :\"+str(self.usn))\n",
        "    print(\"marks in respective 3 subjects :\")\n",
        "    for i in self.marks_list:\n",
        "      print(i)\n",
        "\n",
        "marks=[120,35,75]      \n",
        "\n",
        "s1=student(\"chaitnya\",1234,marks)\n",
        "s1.displayData()"
      ],
      "execution_count": null,
      "outputs": [
        {
          "output_type": "stream",
          "name": "stdout",
          "text": [
            "name: chaitnya\n",
            "usn :1234\n",
            "marks in respective 3 subjects :\n",
            "120\n",
            "35\n",
            "75\n"
          ]
        }
      ]
    },
    {
      "cell_type": "markdown",
      "metadata": {
        "id": "cWhDiUyiXRcW"
      },
      "source": [
        "problem-5"
      ]
    },
    {
      "cell_type": "code",
      "metadata": {
        "colab": {
          "base_uri": "https://localhost:8080/"
        },
        "id": "u5GyoJ0JXV3K",
        "outputId": "f75afef2-e77c-435a-fb31-64b866ab24ff"
      },
      "source": [
        "class covidDatabase:\n",
        "\n",
        "  def __init__(self):\n",
        "    self.people_need_oxy=0\n",
        "    self.totalPatient=0\n",
        "    self.gwp=0\n",
        "\n",
        "  def display_patient_GW(self):\n",
        "    self.gwp=self.totalPatient-self.people_need_oxy\n",
        "    print(self.gwp)\n",
        "\n",
        "  def display_totalPatient(self):\n",
        "    print(self.totalPatient)\n",
        "  def display_patient_oxy(self):\n",
        "    print(self.people_need_oxy)\n",
        "  \n",
        "  def cheack_ol(self,ol):\n",
        "    if(ol<90):\n",
        "      self.people_need_oxy+=1\n",
        "      \n",
        "\n",
        "class patient:\n",
        "  def __init__(self,name,doa,los,ol,dod):\n",
        "    self.name=name\n",
        "    self.doa=doa\n",
        "    self.los=los\n",
        "    self.ol=ol\n",
        "    self.dod=dod\n",
        "\n",
        "\n",
        "db=covidDatabase()\n",
        "\n",
        "for i in range(2):\n",
        "  db.totalPatient+=1\n",
        "  name=input(\"enter patient name :\")\n",
        "  doa=input(\"date of admission :\")\n",
        "  ol=int(input(\"enter the oxygen level : \"))\n",
        "  db.cheack_ol(ol)\n",
        "  no_of_symptomps=int(input(\"no. of symptems :\"))\n",
        "  los=[]\n",
        "  dod=input(\"enter patient's discharge date :\")\n",
        "  for i in range(no_of_symptomps):\n",
        "    symptomp=input(\"enter symptomp :\")\n",
        "    los.append(symptomp)\n",
        "\n",
        "  p=patient(name,doa,los,ol,dod)\n",
        "\n",
        "print(\"no. of patients need oxygen are :\")\n",
        "db.display_patient_oxy()  \n",
        "print(\"no. of patients in general ward are :\")\n",
        "db.display_patient_GW()\n",
        "\n",
        "print(\"total pationts are :\")\n",
        "db.display_totalPatient()\n",
        "\n"
      ],
      "execution_count": null,
      "outputs": [
        {
          "output_type": "stream",
          "name": "stdout",
          "text": [
            "enter patient name :john\n",
            "date of admission :23\n",
            "enter the oxygen level : 34\n",
            "no. of symptems :2\n",
            "enter patient's discharge date :2345\n",
            "enter symptomp :cough\n",
            "enter symptomp :omit\n",
            "enter patient name :joe\n",
            "date of admission :23062002\n",
            "enter the oxygen level : 45\n",
            "no. of symptems :2\n",
            "enter patient's discharge date :24042002\n",
            "enter symptomp :2\n",
            "enter symptomp :cough hard\n",
            "no. of patients need oxygen are :\n",
            "2\n",
            "no. of patients in general ward are :\n",
            "0\n",
            "total pationts are :\n",
            "2\n"
          ]
        }
      ]
    },
    {
      "cell_type": "markdown",
      "metadata": {
        "id": "sjd9ivS7hg51"
      },
      "source": [
        "problem-6"
      ]
    },
    {
      "cell_type": "code",
      "metadata": {
        "colab": {
          "base_uri": "https://localhost:8080/"
        },
        "id": "y9jjbhBKhitl",
        "outputId": "f52480ea-ceef-4ef0-be81-b2212a6866f6"
      },
      "source": [
        "class time:\n",
        "\n",
        "  def __init__(self):\n",
        "    self.hh=0\n",
        "    self.mm=0\n",
        "    self.ss=0\n",
        "\n",
        "  def settime(self,hh,mm,ss):\n",
        "    self.hh=hh\n",
        "    self.mm=mm\n",
        "    self.ss=ss\n",
        "  \n",
        "  def displaytime(self):\n",
        "    print(\"current time is: \")\n",
        "    print(str(self.hh)+\":\"+str(self.mm)+\":\"+str(self.ss))\n",
        "\n",
        "\n",
        "t1=time()\n",
        "\n",
        "t1.settime(12,20,26)\n",
        "t1.displaytime()\n",
        "\n"
      ],
      "execution_count": null,
      "outputs": [
        {
          "output_type": "stream",
          "name": "stdout",
          "text": [
            "current time is: \n",
            "12:20:26\n"
          ]
        }
      ]
    },
    {
      "cell_type": "markdown",
      "metadata": {
        "id": "Ja2XbQqJkZ6e"
      },
      "source": [
        "problem-7"
      ]
    },
    {
      "cell_type": "code",
      "metadata": {
        "id": "-Oa_gSfRkd3m",
        "colab": {
          "base_uri": "https://localhost:8080/"
        },
        "outputId": "b66aef69-e93f-4cc1-8c82-caa3887f02c3"
      },
      "source": [
        "class student:\n",
        "  def __init__(self,name,age,roll_no):\n",
        "    self.name=name\n",
        "    self.age=age\n",
        "    self.roll_no=roll_no\n",
        "\n",
        "s1=student(\"rahul\" ,21,33)    \n",
        "s2=student(\"rohit\" ,22,74)    \n",
        "\n",
        "def compare_age(a,b):\n",
        "  if(a==b):\n",
        "    print(\"ages are equal \")\n",
        "  else:\n",
        "    print(\"not equal\")  \n",
        "\n",
        "compare_age(s1.age ,s2.age)    \n",
        "\n"
      ],
      "execution_count": null,
      "outputs": [
        {
          "output_type": "stream",
          "name": "stdout",
          "text": [
            "not equal\n"
          ]
        }
      ]
    },
    {
      "cell_type": "markdown",
      "metadata": {
        "id": "WXBlB6ncocch"
      },
      "source": [
        "problem-8"
      ]
    },
    {
      "cell_type": "code",
      "metadata": {
        "id": "qP8xD_EmofZA",
        "colab": {
          "base_uri": "https://localhost:8080/"
        },
        "outputId": "d844f308-ac43-4425-811c-18d8647a2fc5"
      },
      "source": [
        "class student:\n",
        "\n",
        "  def __init__(self,name,usn):\n",
        "    self.name=name\n",
        "    self.institute=\"IIIT Dharwad\"\n",
        "    self.sem=\"3rd sem\"\n",
        "    self.usn=usn\n",
        "\n",
        " \n",
        "  def display_classvar(self):\n",
        "    print(self.institute + self.sem)\n",
        "\n",
        "  def display_instancevar(self):\n",
        "    print(self.name+\" \"+str(self.usn))\n",
        "s=student(\"chaitnya\",20023)\n",
        "s.display_classvar()   \n",
        "s.display_instancevar() "
      ],
      "execution_count": null,
      "outputs": [
        {
          "output_type": "stream",
          "name": "stdout",
          "text": [
            "IIIT Dharwad3rd sem\n",
            "chaitnya 20023\n"
          ]
        }
      ]
    },
    {
      "cell_type": "markdown",
      "metadata": {
        "id": "X_1tp9xdnfPe"
      },
      "source": [
        "problem-9"
      ]
    },
    {
      "cell_type": "code",
      "metadata": {
        "colab": {
          "base_uri": "https://localhost:8080/"
        },
        "id": "T_YZKlr2nhim",
        "outputId": "9d92e4cc-648e-4cc4-9bd6-b2b63fb56117"
      },
      "source": [
        "class student:\n",
        "\n",
        "  def __init__(self,name,roll,sem):\n",
        "    self.name=name\n",
        "    self.roll=roll\n",
        "    self.sem=sem\n",
        "\n",
        "  class laptop:\n",
        "    def __init__(self,cpu,ram,hd):\n",
        "      self.cpu=cpu\n",
        "      self.ram=ram\n",
        "      self.hd=hd\n",
        "    def displayInfo(self):\n",
        "      print(self.cpu+\" \"+self.ram+\" \"+self.hd)\n",
        "\n",
        "\n",
        "s=student(\"naruto\",1234,3)\n",
        "print(\"the info of all laptop instances of instance of class student :\")\n",
        "sl=s.laptop(\"ryzen\",\"16gb\",\"556gb\")\n",
        "sl.displayInfo()\n",
        "\n",
        "\n",
        "sl1=s.laptop(\"intel\",\"6gb\",\"1Tb\")\n",
        "sl1.displayInfo()\n",
        "\n",
        "\n",
        "sl2=s.laptop(\"ryzen 7 \",\"8gb\",\"64gb\")\n",
        "sl2.displayInfo()\n"
      ],
      "execution_count": null,
      "outputs": [
        {
          "output_type": "stream",
          "name": "stdout",
          "text": [
            "the info of all laptop instances of instance of class student :\n",
            "ryzen 16gb 556gb\n",
            "intel 6gb 1Tb\n",
            "ryzen 7  8gb 64gb\n"
          ]
        }
      ]
    }
  ]
}